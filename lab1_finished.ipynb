{
 "cells": [
  {
   "cell_type": "markdown",
   "id": "596b4987",
   "metadata": {
    "id": "596b4987"
   },
   "source": [
    "# Лабораторная работа №1\n",
    "\n",
    "#ФИО: Янушка Артём Викторович\n",
    "#Группа: БИВТ-20-1\n",
    "\n",
    "Отправлять можно следующими способами:\n",
    "1. Создать **приватный** репозиторий на github, добавить меня по нику (l3lush) в Collaborators (Settings -> Collaborators -> Add people)\n",
    "2. Отправить заполненный ноутбук мне на почту avmysh@gmail.com, либо m1603956@edu.misis.ru\n",
    "3. Отправить заполненный ноутбук мне в тг @l3lush. \n",
    "\n",
    "Deadlines:\n",
    "- soft -- **05.03.2023 23:59** (за сдачу в пределах этого времени +1 балл в табличку)\n",
    "- hard -- **19.03.2023 23:59**\n",
    "\n",
    "Что необходимо сделать:\n",
    "1. Заполнить все ячейки ниже кодом так, чтобы прошли все `assert`ы."
   ]
  },
  {
   "cell_type": "markdown",
   "id": "2213731a",
   "metadata": {
    "id": "2213731a"
   },
   "source": [
    "# 0. Пример работы assert"
   ]
  },
  {
   "cell_type": "markdown",
   "id": "0dcee059",
   "metadata": {
    "id": "0dcee059"
   },
   "source": [
    "`assert` предназначен для проверки каких-либо условий.  \n",
    "Если условие истинно (возвращается `True`), код выполняется без ошибок, в противном случае выходит `AssertionError`.  <br />\n",
    "Ниже пример работы `assert`ов (в ячейке с примером `assert a > 6` можно оставить ошибку, но нигде далее в коде ошибок быть **не должно**)    <br />\n",
    "P.S. `assert`ы менять никак **нельзя**"
   ]
  },
  {
   "cell_type": "code",
   "execution_count": 1,
   "id": "31be897b",
   "metadata": {
    "id": "31be897b"
   },
   "outputs": [],
   "source": [
    "a = 5\n",
    "assert a == 5  # assert проходит, т.к. a равно 0"
   ]
  },
  {
   "cell_type": "code",
   "execution_count": null,
   "id": "139c9ca8",
   "metadata": {
    "id": "139c9ca8"
   },
   "outputs": [],
   "source": [
    "assert a > 6  # assert не проходит, т.к. а не больше 6, выпадает ошибка"
   ]
  },
  {
   "cell_type": "markdown",
   "id": "a72f14da",
   "metadata": {
    "id": "a72f14da"
   },
   "source": [
    "# 1. Базовые типы переменных"
   ]
  },
  {
   "cell_type": "markdown",
   "id": "ccfb5acf",
   "metadata": {
    "id": "ccfb5acf"
   },
   "source": [
    "Создайте переменные так, чтобы они были объектами определенного типа (типы приведены в комментариях)."
   ]
  },
  {
   "cell_type": "code",
   "execution_count": 3,
   "id": "db46e8d6",
   "metadata": {
    "id": "db46e8d6"
   },
   "outputs": [],
   "source": [
    "int_variable = 567  # int\n",
    "assert isinstance(int_variable, int)\n",
    "\n",
    "float_variable = 56.7  # float\n",
    "assert isinstance(float_variable, float)\n",
    "\n",
    "string_variable = \"567\"  # string\n",
    "assert isinstance(string_variable, str)\n",
    "\n",
    "bool_variable = False  # bool\n",
    "assert isinstance(bool_variable, bool)"
   ]
  },
  {
   "cell_type": "code",
   "execution_count": 4,
   "id": "ed1861a0",
   "metadata": {
    "id": "ed1861a0"
   },
   "outputs": [],
   "source": [
    "list_variable = [5, 6, 3]  # list\n",
    "assert isinstance(list_variable, list)\n",
    "\n",
    "tuple_variable = (5, 6, 7)  # tuple\n",
    "assert isinstance(tuple_variable, tuple)\n",
    "\n",
    "set_variable = {5, 6, 7}  # set\n",
    "assert isinstance(set_variable, set)\n",
    "\n",
    "dict_variable = {4:5, 5:6, 6:7}  # dict\n",
    "assert isinstance(dict_variable, dict)"
   ]
  },
  {
   "cell_type": "markdown",
   "id": "52830470",
   "metadata": {
    "id": "52830470"
   },
   "source": [
    "# 2. Различные функции"
   ]
  },
  {
   "cell_type": "code",
   "execution_count": 9,
   "id": "3eb16cbe",
   "metadata": {
    "id": "3eb16cbe"
   },
   "outputs": [],
   "source": [
    "def difference_of_two_numbers(first, second):\n",
    "    \"\"\"Возвращает разницу между первым и вторым аргументом\"\"\"\n",
    "    # TODO: напиши меня\n",
    "    return first - second\n",
    "\n",
    "\n",
    "assert difference_of_two_numbers(2, 1) == 1\n",
    "assert difference_of_two_numbers(4, 1) == 3\n",
    "assert difference_of_two_numbers(10, 0) == 10\n",
    "assert difference_of_two_numbers(-5, -6) == 1"
   ]
  },
  {
   "cell_type": "code",
   "execution_count": 11,
   "id": "65ff4881",
   "metadata": {
    "id": "65ff4881"
   },
   "outputs": [],
   "source": [
    "def condition_function(input_number):\n",
    "    \"\"\"\n",
    "    Если входное число меньше либо равно 0, то умножить его на 2.\n",
    "    В противном случае, если число больше 0, но меньше или равно 10, умножить на 3.\n",
    "    Во всех прочих случаях поделить на 10.\n",
    "    \"\"\"\n",
    "    # TODO: напиши меня\n",
    "    ret = input_number\n",
    "    if ret <= 0:\n",
    "      ret *= 2\n",
    "    elif ret <= 10:\n",
    "      ret *= 3\n",
    "    else:\n",
    "      ret /= 10\n",
    "    return ret\n",
    "\n",
    "\n",
    "assert condition_function(0) == 0\n",
    "assert condition_function(-1) == -2\n",
    "assert condition_function(1) == 3\n",
    "assert condition_function(10) == 30\n",
    "assert condition_function(11) == 1.1\n",
    "assert condition_function(20) == 2"
   ]
  },
  {
   "cell_type": "code",
   "execution_count": 12,
   "id": "51264059",
   "metadata": {
    "id": "51264059"
   },
   "outputs": [],
   "source": [
    "def calculator(number_1, operation, number_2):\n",
    "    \"\"\"\n",
    "    Простой оператор, способный выполнять операции +, -, *, /.\n",
    "    На входе первое число, операция в виде строки и второе число.\n",
    "    \n",
    "    Пример: \n",
    "    >>> calculator(1, \"+\", 1)\n",
    "    >>> 2\n",
    "    \"\"\"\n",
    "    ret = 0\n",
    "    if operation == \"+\":\n",
    "      ret = number_1 + number_2\n",
    "    elif operation == \"-\":\n",
    "      ret = number_1 - number_2\n",
    "    elif operation == \"*\":\n",
    "      ret = number_1 * number_2\n",
    "    else:\n",
    "      ret = number_1 / number_2\n",
    "    return ret\n",
    "\n",
    "\n",
    "assert calculator(1, \"+\", 2) == 3\n",
    "assert calculator(3, \"-\", 1) == 2\n",
    "assert calculator(4, \"*\", 3) == 12\n",
    "assert calculator(2, \"/\", 2) == 1"
   ]
  },
  {
   "cell_type": "code",
   "execution_count": 15,
   "id": "02255ff4",
   "metadata": {
    "id": "02255ff4"
   },
   "outputs": [],
   "source": [
    "def number_of_unique_elements(input_list):\n",
    "    \"\"\"\n",
    "    Считает количество уникальных элементов в листе.\n",
    "    \"\"\"\n",
    "    st = set(input_list)\n",
    "    return len(st)\n",
    "\n",
    "\n",
    "assert number_of_unique_elements([1, 2, 3]) == 3\n",
    "assert number_of_unique_elements([1] * 93) == 1\n",
    "assert number_of_unique_elements(list(range(1000))) == 1000"
   ]
  },
  {
   "cell_type": "code",
   "execution_count": 17,
   "id": "2a2a2363",
   "metadata": {
    "id": "2a2a2363"
   },
   "outputs": [],
   "source": [
    "def counter(input_list):\n",
    "    \"\"\"\n",
    "    Считает количество вхождений каждого из элементов листа.\n",
    "    Возвращает словарь вида {число: количество вхождений}\n",
    "    \n",
    "    Замечание (!): встроенным в collections Counter'ом пользоваться нельзя\n",
    "    \n",
    "    Например:\n",
    "    counter([1, 1, 2, 3]) вернет {1: 2, 2: 1, 3: 1}\n",
    "    \"\"\"\n",
    "    # TODO: напиши меня\n",
    "    mp = defaultdict(int)\n",
    "    for el in input_list:\n",
    "        mp[el] += 1\n",
    "    return dict(mp)\n",
    "\n",
    "assert counter([1, 1, 1, 2, 3]) == {1: 3, 2: 1, 3: 1}\n",
    "assert counter([1] * 1000) == {1: 1000}\n",
    "assert counter([1, 3, 5] * 100) == {1: 100, 3: 100, 5: 100}"
   ]
  },
  {
   "cell_type": "code",
   "execution_count": 25,
   "id": "c1498018",
   "metadata": {
    "id": "c1498018"
   },
   "outputs": [],
   "source": [
    "def multiply_nums(input_string):\n",
    "    \"\"\"\n",
    "    Перемножить числа, переданные в строке, перечисленные через запятую.\n",
    "    \n",
    "    hint: можно использовать метод .split()\n",
    "    \"\"\"\n",
    "    numbers = [int(num) for num in input_string.split(\",\")]\n",
    "    result = eval(\"*\".join(map(str, numbers)))\n",
    "    return result\n",
    "\n",
    "\n",
    "assert multiply_nums(\"2, 3\") == 6\n",
    "assert multiply_nums(\"1, 1, 1, 1, 1, 1, 1\") == 1\n",
    "assert multiply_nums(\"345, 4576, 794, 325, 0\") == 0"
   ]
  },
  {
   "cell_type": "markdown",
   "id": "202c838a",
   "metadata": {
    "id": "202c838a"
   },
   "source": [
    "Реализуйте следующую функцию:\n",
    "$$\n",
    "y = sin(x)\\cdot cos(x)\n",
    "$$\n",
    "P.S. используйте библиотеку `math`"
   ]
  },
  {
   "cell_type": "code",
   "execution_count": 28,
   "id": "4121596c",
   "metadata": {
    "id": "4121596c"
   },
   "outputs": [],
   "source": [
    "import math\n",
    "\n",
    "def custom_function(x):\n",
    "    \"\"\"\n",
    "    Реализуйте функцию, описанную выше.\n",
    "    \"\"\"\n",
    "    # TODO: напиши меня\n",
    "    return math.sin(x) * math.cos(x)\n",
    "\n",
    "assert round(custom_function(1), 3) == 0.455\n",
    "assert round(custom_function(1.5), 3) == 0.071\n",
    "assert round(custom_function(2), 3) == -0.378\n",
    "assert custom_function(0) == 0"
   ]
  },
  {
   "cell_type": "markdown",
   "id": "7a2210d6",
   "metadata": {
    "id": "7a2210d6"
   },
   "source": [
    "Реализуйте следующую функцию:\n",
    "$$\n",
    "y = \\prod\\limits_{n = 1}^n \\frac{(n+2)^x + ln(x)}{x^2 + 4n}\n",
    "$$\n",
    "P.S. используйте библиотеку `math`"
   ]
  },
  {
   "cell_type": "code",
   "execution_count": 30,
   "id": "b4698ba6",
   "metadata": {
    "id": "b4698ba6"
   },
   "outputs": [],
   "source": [
    "import math\n",
    "\n",
    "def custom_function_1(x, n):\n",
    "    \"\"\"\n",
    "    Реализуйте функцию, описанную выше.\n",
    "    \"\"\"\n",
    "    # TODO: напиши меня\n",
    "    i = np.arange(1, n + 1)\n",
    "    power_term = (i + 2) ** x\n",
    "    denominator_term = x * x + 4 * i\n",
    "    term_list = ((power_term + np.log(x)) / denominator_term)\n",
    "    ans = np.prod(term_list)\n",
    "    return ans\n",
    "\n",
    "\n",
    "assert round(custom_function_1(2, 3), 3) == 2.707\n",
    "assert round(custom_function_1(3, 2), 3) == 8.277\n",
    "assert round(custom_function_1(3, 3), 3) == 49.7"
   ]
  },
  {
   "cell_type": "code",
   "execution_count": 31,
   "id": "b9a4db60",
   "metadata": {
    "id": "b9a4db60"
   },
   "outputs": [],
   "source": [
    "class MyList:\n",
    "    def __init__(self, arr):\n",
    "        # TODO: напиши меня\n",
    "        self.arr = arr\n",
    "    \n",
    "    def return_sum(self):\n",
    "        \"\"\"\n",
    "        Возвращает сумму всех элементов сохраненного листа.\n",
    "        Пользоваться sum нельзя!\n",
    "        \"\"\"\n",
    "        # TODO: напиши меня\n",
    "        ret = 0\n",
    "        for i in self.arr:\n",
    "          ret += i\n",
    "        return ret\n",
    "    \n",
    "    def make_reverse(self):\n",
    "        \"\"\"\n",
    "        Разворачивает сохраненный лист.\n",
    "        \"\"\"\n",
    "        # TODO: напиши меня\n",
    "        return self.arr[::-1]\n",
    "    \n",
    "    def make_slice(self, start, stop):\n",
    "        \"\"\"\n",
    "        Делает слайсинг сохраненного листа.\n",
    "        \"\"\"\n",
    "        # TODO: напиши меня\n",
    "        return self.arr[start:stop]\n",
    "    \n",
    "    \n",
    "a = MyList([1, 2, 3, 4])\n",
    "assert a.return_sum() == 10\n",
    "assert a.make_reverse() == [4, 3, 2, 1]\n",
    "assert a.make_slice(0, 2) == [1, 2]\n",
    "\n",
    "b = MyList([5, 6, 6, 5])\n",
    "assert b.return_sum() == 22\n",
    "assert b.make_reverse() == [5, 6, 6, 5]\n",
    "assert b.make_slice(1, 2) == [6]"
   ]
  }
 ],
 "metadata": {
  "kernelspec": {
   "display_name": "Python 3 (ipykernel)",
   "language": "python",
   "name": "python3"
  },
  "language_info": {
   "codemirror_mode": {
    "name": "ipython",
    "version": 3
   },
   "file_extension": ".py",
   "mimetype": "text/x-python",
   "name": "python",
   "nbconvert_exporter": "python",
   "pygments_lexer": "ipython3",
   "version": "3.9.13"
  },
  "colab": {
   "provenance": []
  }
 },
 "nbformat": 4,
 "nbformat_minor": 5
}
